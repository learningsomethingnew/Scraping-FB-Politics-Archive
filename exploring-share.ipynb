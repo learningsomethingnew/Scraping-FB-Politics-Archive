{
 "cells": [
  {
   "cell_type": "code",
   "execution_count": null,
   "metadata": {},
   "outputs": [],
   "source": [
    "from selenium import webdriver\n",
    "from selenium.webdriver.common.keys import Keys\n",
    "import csv\n",
    "import time\n",
    "import datetime as dt"
   ]
  },
  {
   "cell_type": "markdown",
   "metadata": {},
   "source": [
    "#### This requires a FB username and pass"
   ]
  },
  {
   "cell_type": "code",
   "execution_count": null,
   "metadata": {},
   "outputs": [],
   "source": [
    "# user_request is the search term that is used to go search against FB's archive.\n",
    "username = \"\"\n",
    "password = \"\"\n",
    "starting_url = \"https://www.facebook.com/politicalcontentads/?active_status=all&q={}\"\n",
    "user_request = \"North Carolina\""
   ]
  },
  {
   "cell_type": "code",
   "execution_count": null,
   "metadata": {},
   "outputs": [],
   "source": [
    "data = [[\n",
    "        \"user_request\",\n",
    "        \"group_id\", \n",
    "        \"group_name\", \n",
    "        \"group_url\", \n",
    "        \"utc_start\", \n",
    "        \"utc_end\", \n",
    "        \"ad_duration\", \n",
    "        \"active\", \n",
    "        \"sponsored_by\", \n",
    "        \"impressions\", \n",
    "        \"money_spent\",\n",
    "        \"description\",\n",
    "        \"title\",\n",
    "        \"title_description\",\n",
    "        \"title_url\",\n",
    "        \"media_type\",\n",
    "],[]]"
   ]
  },
  {
   "cell_type": "markdown",
   "metadata": {},
   "source": [
    "to prevent popups blocking selenium, recommend reducing the browser to be less 3 or fewer ad columns. I usually make selenium use half of my monitor resolution and I have no issues.\n"
   ]
  },
  {
   "cell_type": "code",
   "execution_count": null,
   "metadata": {},
   "outputs": [],
   "source": [
    "driver.set_window_rect(height=1096, width=960, x=960, y=23)"
   ]
  },
  {
   "cell_type": "markdown",
   "metadata": {},
   "source": [
    "### File Operations"
   ]
  },
  {
   "cell_type": "code",
   "execution_count": 10,
   "metadata": {},
   "outputs": [],
   "source": [
    "def add_to_csv(data):\n",
    "    \"\"\"\n",
    "    appends the data a csv. Expects an array object with more than 1 row.\n",
    "    \"\"\"\n",
    "    now = dt.datetime.now().date().strftime(\"%Y-%m-%d\")\n",
    "    with open(\"data_{}_{}.csv\".format(now), 'a', newline='') as f:\n",
    "        writer = csv.writer(f, quoting=csv.QUOTE_NONNUMERIC)\n",
    "        for row in data:\n",
    "            writer.writerow(row)"
   ]
  },
  {
   "cell_type": "markdown",
   "metadata": {},
   "source": [
    "### Selenium Prep"
   ]
  },
  {
   "cell_type": "markdown",
   "metadata": {},
   "source": [
    "You will need to download the chrome driver, https://sites.google.com/a/chromium.org/chromedriver/, and put it into the google folder. Update the path if you need to. I'm running this off of Mac. "
   ]
  },
  {
   "cell_type": "code",
   "execution_count": null,
   "metadata": {},
   "outputs": [],
   "source": [
    "driver = webdriver.Chrome(executable_path=\"google/chromedriver\")"
   ]
  },
  {
   "cell_type": "code",
   "execution_count": 11,
   "metadata": {},
   "outputs": [],
   "source": [
    "def what_are_we_searching_for(user_query):\n",
    "    \"\"\"\n",
    "    If the user is searching term is multiple words, \n",
    "    create a searchable term for the url. Returns a prepped url\n",
    "    \"\"\"\n",
    "    temp = user_query.split(\" \")\n",
    "    cleaned_query = \"\"\n",
    "    if len(temp)>1:\n",
    "        for i in temp:\n",
    "            cleaned_query += i + \"%20\"\n",
    "    cleaned_query = cleaned_query[:-3]\n",
    "    return cleaned_query"
   ]
  },
  {
   "cell_type": "code",
   "execution_count": null,
   "metadata": {},
   "outputs": [],
   "source": [
    "# wait for selenium to open and then navigate to starting url\n",
    "time.sleep(3)\n",
    "driver.get(starting_url.format(what_are_we_searching_for(user_request)))"
   ]
  },
  {
   "cell_type": "code",
   "execution_count": null,
   "metadata": {},
   "outputs": [],
   "source": [
    "def login():\n",
    "    \"\"\" \n",
    "    FB requires an account and to be logged in in order to go through their archive. Yea!\n",
    "    This function navigates the login page, inputs your account info, and logs in.\n",
    "    \"\"\"\n",
    "    time.sleep(1)\n",
    "    ele = driver.find_element_by_id(\"email\")\n",
    "    ele.send_keys(username)\n",
    "    ele = driver.find_element_by_id(\"pass\")\n",
    "    ele.send_keys(password)\n",
    "    ele = driver.find_element_by_id(\"loginbutton\")\n",
    "    ele.click()\n",
    "    time.sleep(1)\n",
    "login()"
   ]
  },
  {
   "cell_type": "markdown",
   "metadata": {},
   "source": [
    "### Archive Scraping Functions"
   ]
  },
  {
   "cell_type": "code",
   "execution_count": 13,
   "metadata": {},
   "outputs": [],
   "source": [
    "def find_similar_ads(ad_id, title):\n",
    "    \"\"\"\n",
    "    Facebook looks to be categorizing some ads with a \"similar ads\" grouping. I've found it once but haven't seen it sense. \n",
    "    Trying to locate those ads so that I can build it into the tool.\n",
    "    \"\"\"\n",
    "    search = [\"Similar\", \"similar\"]\n",
    "    for i in search:\n",
    "        search = driver.page_source.find(\"Similar\")\n",
    "        if search != -1:\n",
    "            print(\"***FOUND SIMILAR ADS from group {} with title {}\".format(ad_id, title))\n",
    "        "
   ]
  },
  {
   "cell_type": "code",
   "execution_count": null,
   "metadata": {},
   "outputs": [],
   "source": [
    "def length_of_ad():\n",
    "    \"\"\"\n",
    "    Calculates the duration of the ad. Looks for the date under the \"Active\"/\"Inactive\" section. \n",
    "    Dates can be read as \"Started running on Jul 8. 2018\" or two dates like \"Jul 8, 2018 - Jul 1, 2018\"\n",
    "    We calculate the delta of these and return the start, end, num of days, and if it is still active or not.\n",
    "    \"\"\"\n",
    "    time_running = driver.find_element_by_css_selector(\"body > div._10._d2i.uiLayer._4-hy._3qw > div._59s7 > div > div > div > div > div > div > div._jmh > div > div > div._4hg_ > div._4hh0 > div._4hhk > div._4hhm > div._4hhv > span\").text\n",
    "    active = driver.find_element_by_css_selector(\"body > div._10._d2i.uiLayer._4-hy._3qw > div._59s7 > div > div > div > div > div > div > div._jmh > div > div > div._4hg_ > div._4hh0 > div._4hhk > div._4hhm > div._4hhp > span\").text\n",
    "    utc_start = \"\"\n",
    "    utc_end = \"\"\n",
    "    number_of_days = \"\"\n",
    "    \n",
    "    \n",
    "    if time_running.startswith(\"Started running\"):\n",
    "        if active == \"Active\":\n",
    "            d = dt.datetime.strptime(time_running.split(\"on\")[1], \" %b %d, %Y\")\n",
    "            #get the start date of the ad\n",
    "            utc_start = d.strftime(\"%Y-%m-%d\")\n",
    "            #calculate duration of currently running ad\n",
    "            now = dt.datetime.now()\n",
    "            num_days = now - d\n",
    "            number_of_days = num_days.days\n",
    "\n",
    "        elif active == \"Inactive\":\n",
    "            d = dt.datetime.strptime(time_running.split(\"on\")[1], \" %b %d, %Y\")\n",
    "            utc_start = d.strftime(\"%Y-%m-%d\")\n",
    "            utc_end = utc_start\n",
    "            number_of_days = \"<1\"\n",
    "    else:\n",
    "        start = dt.datetime.strptime(time_running.split(\" - \")[0], \"%b %d, %Y\")\n",
    "        end = dt.datetime.strptime(time_running.split(\" - \")[1], \"%b %d, %Y\")\n",
    "        num_days = end-start\n",
    "        number_of_days = num_days.days\n",
    "        if number_of_days == 0:\n",
    "            number_of_days == 1\n",
    "        utc_start = start.strftime(\"%Y-%m-%d\")\n",
    "        utc_end = end.strftime(\"%Y-%m-%d\")\n",
    "    \n",
    "    return utc_start, utc_end, number_of_days, active"
   ]
  },
  {
   "cell_type": "code",
   "execution_count": null,
   "metadata": {},
   "outputs": [],
   "source": [
    "def exit_current_ad():\n",
    "    \"\"\" when we are done grabbing the data off the ad, we need to close the ad. \n",
    "    This locates the \"x\" and then clicks it \"\"\"\n",
    "    exit_button = driver.find_element_by_css_selector(\"\"\"body > div._10._d2i.uiLayer._4-hy._3qw > div._59s7 > div > div > div > div > div > div > button > span._3n5s > i\"\"\")\n",
    "    exit_button.click()"
   ]
  },
  {
   "cell_type": "code",
   "execution_count": 12,
   "metadata": {},
   "outputs": [],
   "source": [
    "def get_title_details(group, group_id):\n",
    "    \"\"\"\n",
    "    Have had more success grabbing the full div with all of the text and splitting it up afterwards\n",
    "    vs the smaller sections. This function goes and grabs the title blerb, the stuff that appears\n",
    "    below the media (image/video).\n",
    "    \"\"\"\n",
    "    title = \"\"\n",
    "    title_description = \"\"\n",
    "    title_url = \"\"\n",
    "    \n",
    "    try:\n",
    "        full_div = driver.find_element_by_css_selector(\"body > div._10._d2i.uiLayer._4-hy._3qw > div._59s7 > div > div > div > div > div > div > div._jmh > div > div > div._4hgt > div > div > div._3pym._3b0i\").text\n",
    "#         title = driver.find_element_by_css_selector(\"\"\"div._3pym._3b0i > div._3b0y > div._3pyn\"\"\").text\n",
    "#         title_description = driver.find_element_by_css_selector(\"\"\"div._3pym._3b0i > div._3b0y > div._3pyz > div > div\"\"\").text\n",
    "#         title_url = driver.find_element_by_css_selector(\"\"\"div._3pym._3b0i > div._3b0y > div._3py- > div > div\"\"\").text\n",
    "        full_div = full_div.split(\"\\n\")\n",
    "        title = full_div[0]\n",
    "        title_description = full_div[1]\n",
    "        title_url = full_div[2]\n",
    "    except:\n",
    "        print(\"No title information on ad {}, from group {}\".format(group, group_id))\n",
    "    \n",
    "    return title, title_description, title_url"
   ]
  },
  {
   "cell_type": "code",
   "execution_count": 14,
   "metadata": {},
   "outputs": [],
   "source": [
    "def find_all_ad_performance_elements():\n",
    "    \"\"\"Once we load onto the archive page, we need to grab all of the clickable links for the \n",
    "    political ads. FB loads 30 at a time.\n",
    "    \"\"\"\n",
    "    found = driver.find_elements_by_css_selector(\"\"\"div > div > div > a > div._235y\"\"\")\n",
    "    return found"
   ]
  },
  {
   "cell_type": "code",
   "execution_count": 15,
   "metadata": {},
   "outputs": [],
   "source": [
    "def get_next_chunk(found, seen):\n",
    "    \"\"\"\n",
    "    Locates all of the found objects, after loading, and then returns only the \n",
    "    unique ads that we have not already visited.\n",
    "    \"\"\"\n",
    "    #find the last element in found and navigate to it, pausing to load\n",
    "    ele = found[-1]\n",
    "    driver.execute_script(\"arguments[0].scrollIntoView();\", ele)\n",
    "    time.sleep(3)\n",
    "    \n",
    "    #after load, locate all of the elements\n",
    "    full_found = find_all_ad_performance_elements()\n",
    "    unique_list = [] #create empty list\n",
    "    \n",
    "    for element in full_found:\n",
    "        if element.id not in seen:\n",
    "            seen[element.id]=element\n",
    "            unique_list.append(element)\n",
    "    \n",
    "    return unique_list, seen"
   ]
  },
  {
   "cell_type": "code",
   "execution_count": 16,
   "metadata": {},
   "outputs": [],
   "source": [
    "def paid_for_data():\n",
    "    # identify who paid for the ad\n",
    "    try:\n",
    "        paid_for = driver.find_element_by_css_selector(\"\"\"div._6955._6956 > div._1kwg > div._1kwh > div._4ik4._4ik5 > div > span > span._21_y\"\"\").text\n",
    "    except:\n",
    "        paid_for = \"\"\n",
    "    return paid_for"
   ]
  },
  {
   "cell_type": "code",
   "execution_count": 17,
   "metadata": {},
   "outputs": [],
   "source": [
    "def description_data():\n",
    "    \"\"\"\n",
    "    description is considered the texted the appears above the media.\n",
    "    returns this text\n",
    "    \"\"\"\n",
    "    description = [\n",
    "        \"div._4hgt > div > div > div._681i\",\n",
    "        \"div._a28 > div > div > div > div._681i\",\n",
    "        \"body > div._10._d2i.uiLayer._4-hy._3qw > div._59s7 > div > div > div > div > div > div > div._jmh > div > div > div._4hgt > div > div > div._681i > div\"\n",
    "    ]\n",
    "    desc = \"\"\n",
    "    for d in description:\n",
    "        if desc == \"\":\n",
    "            try:\n",
    "                desc = driver.find_element_by_css_selector(\"{}\".format(d)).text\n",
    "            except:\n",
    "                continue\n",
    "    return desc"
   ]
  },
  {
   "cell_type": "code",
   "execution_count": null,
   "metadata": {},
   "outputs": [],
   "source": [
    "def get_media_type():\n",
    "    # while in an ad, determine what type of ad was run, image, video, or text only\n",
    "    # returns a string of these three types\n",
    "    media_type = {\n",
    "        \"image\": \"body > div._10._d2i.uiLayer._4-hy._3qw > div._59s7 > div > div > div > div > div > div > div._jmh > div > div > div._4hgt > div > div > img\",\n",
    "        \"video\": \"body > div._10._d2i.uiLayer._4-hy._3qw > div._59s7 > div > div > div > div > div > div > div._jmh > div > div > div._4hgt > div > div > div._1oad._1oax > div\",\n",
    "    }\n",
    "    \n",
    "    for i in media_type:\n",
    "        try:\n",
    "            media = driver.find_element_by_css_selector(media_type[i])\n",
    "            return i\n",
    "        except:\n",
    "            continue\n",
    "    return \"text\"\n",
    "            "
   ]
  },
  {
   "cell_type": "code",
   "execution_count": null,
   "metadata": {},
   "outputs": [],
   "source": [
    "def navigate_to_search(user_request):\n",
    "    try:\n",
    "        search = driver.find_element_by_css_selector(\"#q\")\n",
    "        search.clear()\n",
    "        search.send_keys(user_request)\n",
    "        search.send_keys(Keys.ENTER)\n",
    "    except:\n",
    "        exit_current_ad()\n",
    "        search = driver.find_element_by_css_selector(\"#q\")\n",
    "        search.clear()\n",
    "        search.send_keys(user_request)\n",
    "        search.send_keys(Keys.ENTER)"
   ]
  },
  {
   "cell_type": "code",
   "execution_count": null,
   "metadata": {},
   "outputs": [],
   "source": [
    "def get_text_through_looping(css_selectors):\n",
    "    \"\"\"allows for functions to pass a list of css_selectors to be iterated over to find the needed information.\n",
    "    returns the found text, if any is found. If none, returns empty string.\n",
    "    \"\"\"\n",
    "    temp_result = \"\"\n",
    "    \n",
    "    for i in css_selectors:\n",
    "        try:\n",
    "            temp_result = driver.find_element_by_css_selector(i).text\n",
    "            return temp_result\n",
    "        except:\n",
    "            continue\n",
    "        "
   ]
  },
  {
   "cell_type": "code",
   "execution_count": null,
   "metadata": {},
   "outputs": [],
   "source": [
    "def get_impressions():\n",
    "    \"\"\"\n",
    "    Gets the number of impressions that this ad has received. If 'Impressions' string is \n",
    "    found in the results, it will split up the string to only return the impressions category. \n",
    "    \"\"\"\n",
    "    impress_css = [\n",
    "        \"body > div._10._d2i.uiLayer._4-hy._3qw > div._59s7 > div > div > div > div > div > div > div._jmh > div > div > div._4hg_ > div._4hh0 > div._4hhf > div._4hhg\",\n",
    "        \"div > div > div > div._4hhg > div\",\n",
    "        \"body > div._10._d2i.uiLayer._4-hy._3qw > div._59s7 > div > div > div > div > div > div > div._jmh > div > div > div._4hg_ > div._4hh0 > div._4hhf > div._4hhg > div\"\n",
    "    ]\n",
    "    impressions = get_text_through_looping(impress_css)\n",
    "    if \"Impressions\" in impressions:\n",
    "        impressions = impressions.split(\"\\n\")[0]\n",
    "    return impressions          "
   ]
  },
  {
   "cell_type": "code",
   "execution_count": null,
   "metadata": {},
   "outputs": [],
   "source": [
    "def get_money_spent():\n",
    "    \"\"\"\n",
    "    Gets the money spent for this ad has. If 'Money spent' string is \n",
    "    found in the results, it will split up the string to only return the the money category\n",
    "    \"\"\"\n",
    "    money_spent_css = [\n",
    "        \"body > div._10._d2i.uiLayer._4-hy._3qw > div._59s7 > div > div > div > div > div > div > div._jmh > div > div > div._4hg_ > div._4hh0 > div._4hhf > div._4hhh > div\",\n",
    "        \"div > div > div > div._4hhh > div\",\n",
    "        \"body > div._10._d2i.uiLayer._4-hy._3qw > div._59s7 > div > div > div > div > div > div > div._jmh > div > div > div._4hg_ > div._4hh0 > div._4hhf > div._4hhh > div > div\",\n",
    "    ]\n",
    "    money_spent = get_text_through_looping(money_spent_css)\n",
    "    if \"Money spent\" in money_spent:\n",
    "        money_spent = money_spent.split(\"\\n\")[0]\n",
    "    return money_spent"
   ]
  },
  {
   "cell_type": "code",
   "execution_count": null,
   "metadata": {},
   "outputs": [],
   "source": [
    "def get_sponsored():\n",
    "    \"\"\"\n",
    "    goes out to locate the sponsors for this ad\n",
    "    \"\"\"\n",
    "#     sponsored_css = [\n",
    "#         \"body > div._10._d2i.uiLayer._4-hy._3qw > div._59s7 > div > div > div > div > div > div > div._jmh > div > div > div._4hg_ > div._4hhe > div > span > span\"\n",
    "#         \"div > div > div._4hhc > div > a\",\n",
    "#         \"div._4hg_ > div._4hhe > div:nth-child(1) > span:nth-child(1)\",\n",
    "#         \"body > div._10._d2i.uiLayer._4-hy._3qw > div._59s7 > div > div > div > div > div > div > div._jmh > div > div > div._4hg_ > div._4hhe > div:nth-child(1) > span:nth-child(2) > span\",\n",
    "#         \"body > div._10._d2i.uiLayer._4-hy._3qw > div._59s7 > div > div > div > div > div > div > div._jmh > div > div > div._4hg_ > div._4hhe > div:nth-child(1)\",\n",
    "#         \"body > div._10._d2i.uiLayer._4-hy._3qw > div._59s7 > div > div > div > div > div > div > div._jmh > div > div > div._4hg_ > div._4hhe > div:nth-child(1) > span:nth-child(1)\"\n",
    "#     ]\n",
    "#     sponsored = get_text_through_looping(sponsored_css)\n",
    "\n",
    "    sponsored = driver.find_element_by_css_selector(\"body > div._10._d2i.uiLayer._4-hy._3qw > div._59s7 > div > div > div > div > div > div > div._jmh > div > div > div._4hgt > div > div > div._6955._6956 > div\").text\n",
    "    try:\n",
    "        sponsored = sponsored.split(\"Paid for by \")[1]\n",
    "    except:\n",
    "        sponsored = \"\"\n",
    "    return sponsored"
   ]
  },
  {
   "cell_type": "code",
   "execution_count": null,
   "metadata": {},
   "outputs": [],
   "source": [
    "def get_group_id_url():\n",
    "    \"\"\"\n",
    "    sometimes the group name is different from the sponsored name. \n",
    "    This is the information that appears in the top left in blue. The ID is a\n",
    "    split off of the href.\n",
    "    \"\"\"\n",
    "    ### gets the advertising group's name, ID, and url for future use\n",
    "    \n",
    "    group_name_css = [\n",
    "        \"div._10._d2i.uiLayer._4-hy._3qw > div._59s7 > div > div > div > div > div > div > div._jmh > div > div > div._4hgt > div > div > div._6955._6956 > div > span\",\n",
    "        \"div > div > div._4hhc > div > a\",\n",
    "    ]\n",
    "    group_name = get_text_through_looping(group_name_css)\n",
    "    #get the url and get the id\n",
    "    t = driver.find_element_by_partial_link_text(\"View all ads with political content from this Page\")\n",
    "    url = t.get_attribute(\"href\")\n",
    "    group_id = url.split(\"=\")[1]\n",
    "    \n",
    "    return group_id, group_name, url"
   ]
  },
  {
   "cell_type": "code",
   "execution_count": null,
   "metadata": {},
   "outputs": [],
   "source": [
    "def get_data_off_of_page(found, seen, user_request):\n",
    "    \"\"\"\n",
    "    Function that scrolls through all of the ads, appends the data, and writes the data\n",
    "    \"\"\"\n",
    "    time.sleep(3)\n",
    "    data = []\n",
    "    rows = 1\n",
    "    \n",
    "    for i in found:\n",
    "        time.sleep(2)\n",
    "        try:\n",
    "            i.click()\n",
    "        except:\n",
    "            driver.execute_script(\"arguments[0].scrollIntoView();\", i)\n",
    "            i.click()\n",
    "        \n",
    "        group_id, group_name, group_url = get_group_id_url()\n",
    "        \n",
    "        utc_start, utc_end, ad_duration, active = length_of_ad()\n",
    "        paid_for = paid_for_data()\n",
    "        sponsored = get_sponsored()\n",
    "#         print(\"GROUP = {}, {}, {}, {}\".format(group_id, group_name, group_url, sponsored))\n",
    "        \n",
    "        impressions = get_impressions()\n",
    "        money_spent = get_money_spent()\n",
    "        description = description_data()\n",
    "        media_type = get_media_type()\n",
    "        title, title_description, title_url = get_title_details(group_id, group_name, group_id)\n",
    "        find_similar_ads(group_id, description) #trying to find the elusive \"here are similar ads\"\n",
    "        if description == \"\":\n",
    "            print(\"Description broke on {}, {}\".format(group_name, description))\n",
    "        time.sleep(2)\n",
    "\n",
    "        exit_current_ad()\n",
    "        data.append([\n",
    "            user_request,\n",
    "            group_id, \n",
    "            group_name, \n",
    "            group_url, \n",
    "            utc_start, \n",
    "            utc_end, \n",
    "            ad_duration, \n",
    "            active, \n",
    "            sponsored, \n",
    "            impressions, \n",
    "            money_spent,\n",
    "            description,\n",
    "            title,\n",
    "            title_description, \n",
    "            title_url,\n",
    "            media_type,\n",
    "        ])\n",
    "        #if we just started, load the first 30 rows into seen\n",
    "        if rows<=30:\n",
    "            seen[i.id]=i\n",
    "\n",
    "        #add 10 rows of data at a time to csv\n",
    "        if not rows%10:\n",
    "            add_to_csv(data)\n",
    "            data = []\n",
    "            print(\"Saving 10 lines\")\n",
    "\n",
    "        #wait for next 30 to load\n",
    "        if not rows%30:\n",
    "            time.sleep(5)\n",
    "            next_chunk, seen = get_next_chunk(found, seen)\n",
    "            print(\"1 LEN OF FOUND {}\".format(len(next_chunk)))\n",
    "            add_to_csv(data)\n",
    "            get_data_off_of_page(next_chunk, seen, user_request)\n",
    "        \n",
    "        rows +=1\n",
    "    add_to_csv(data)"
   ]
  },
  {
   "cell_type": "markdown",
   "metadata": {},
   "source": [
    "### Start the process\n",
    "The below is what kicks off the code and starts the crawl"
   ]
  },
  {
   "cell_type": "code",
   "execution_count": null,
   "metadata": {},
   "outputs": [],
   "source": [
    "seen = {}\n",
    "driver.refresh()\n",
    "time.sleep(2)\n",
    "add_to_csv(data, user_request)\n",
    "found = find_all_ad_performance_elements()\n",
    "get_data_off_of_page(found, seen, user_request)"
   ]
  }
 ],
 "metadata": {
  "kernelspec": {
   "display_name": "Python 3",
   "language": "python",
   "name": "python3"
  },
  "language_info": {
   "codemirror_mode": {
    "name": "ipython",
    "version": 3
   },
   "file_extension": ".py",
   "mimetype": "text/x-python",
   "name": "python",
   "nbconvert_exporter": "python",
   "pygments_lexer": "ipython3",
   "version": "3.6.5"
  }
 },
 "nbformat": 4,
 "nbformat_minor": 2
}
